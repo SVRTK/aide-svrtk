{
 "cells": [
  {
   "cell_type": "code",
   "execution_count": 109,
   "id": "54a19294-9667-45a7-9801-243fc0bd2915",
   "metadata": {},
   "outputs": [],
   "source": [
    "import copy, os, subprocess\n",
    "\n",
    "from aide_sdk.inference.aideoperator import AideOperator\n",
    "from aide_sdk.model.dicom_image import DicomImage\n",
    "from aide_sdk.model.dicom_series import DicomSeries\n",
    "from aide_sdk.model.operatorcontext import OperatorContext\n",
    "from aide_sdk.model.resource import Resource\n",
    "from aide_sdk.utils.file_storage import FileStorage\n",
    "from aide_sdk.model.dicom_origin import DicomOrigin"
   ]
  },
  {
   "cell_type": "code",
   "execution_count": 108,
   "id": "268bba93-79c0-4954-a19e-066ecf54e224",
   "metadata": {},
   "outputs": [
    {
     "name": "stdout",
     "output_type": "stream",
     "text": [
      "env: MANIFEST_PATH=/Users/tr17/code/aide-svrtk/operators/dcm2nii_operator/manifest.json\n"
     ]
    },
    {
     "data": {
      "text/plain": [
       "['IM_0007',\n",
       " '.DS_Store',\n",
       " 'IM_0001',\n",
       " 'XX_0002',\n",
       " 'XX_0004',\n",
       " 'IM_0003',\n",
       " 'IM_0005',\n",
       " 'XX_0006',\n",
       " 'XX_0008',\n",
       " 'XX_0009']"
      ]
     },
     "execution_count": 108,
     "metadata": {},
     "output_type": "execute_result"
    }
   ],
   "source": [
    "%set_env MANIFEST_PATH=/Users/tr17/code/aide-svrtk/operators/dcm2nii_operator/manifest.json\n",
    "\n",
    "dcmDir=r'/Users/tr17/code/aide-svrtk/test_data/scanner_export_anon_enhanced/DICOM'\n",
    "dcmImageFile=r'/Users/tr17/code/aide-svrtk/test_data/scanner_export_anon_enhanced/DICOM/IM_0001'\n",
    "saveDir=r'/Users/tr17/code/aide-svrtk/test_data/'\n",
    "niiDir=r'/Users/tr17/code/aide-svrtk/test_data/scanner_export_anon_enhanced/nii'\n",
    "os.makedirs(niiDir, exist_ok=True)\n",
    "os.listdir(dcmDir)\n",
    "\n",
    "%command "
   ]
  },
  {
   "cell_type": "code",
   "execution_count": 112,
   "id": "c58d3e92-4b1c-43aa-b9ac-545a27bb03b9",
   "metadata": {},
   "outputs": [
    {
     "name": "stdout",
     "output_type": "stream",
     "text": [
      "Chris Rorden's dcm2niiX version v1.0.20211220  Clang13.0.0 ARM (64-bit MacOS)\n",
      "Found 9 DICOM file(s)\n",
      "Warning: Unable to append protocol name (0018,1030) to filename (it is empty).\n",
      "Philips Scaling Values RS:RI:SS = 5.82418:0:0.0511706 (see PMC3998685)\n",
      "Convert 1 DICOM as /Users/tr17/code/aide-svrtk/test_data/scanner_export_anon_enhanced/nii/20210101132712_Philips_1201_ (336x336x100x1)\n",
      "Warning: Unable to append protocol name (0018,1030) to filename (it is empty).\n",
      "Philips Scaling Values RS:RI:SS = 6.58462:0:0.0510674 (see PMC3998685)\n",
      "Convert 1 DICOM as /Users/tr17/code/aide-svrtk/test_data/scanner_export_anon_enhanced/nii/20210101132712_Philips_901_ (336x336x80x2)\n",
      "Skipping non-image DICOM: /Users/tr17/code/aide-svrtk/test_data/scanner_export_anon_enhanced/DICOM/XX_0002\n",
      "Skipping non-image DICOM: /Users/tr17/code/aide-svrtk/test_data/scanner_export_anon_enhanced/DICOM/XX_0004\n",
      "Warning: Unable to append protocol name (0018,1030) to filename (it is empty).\n",
      "Philips Scaling Values RS:RI:SS = 7.00855:0:0.0508488 (see PMC3998685)\n",
      "Convert 1 DICOM as /Users/tr17/code/aide-svrtk/test_data/scanner_export_anon_enhanced/nii/20210101132712_Philips_1001_ (336x336x144x1)\n",
      "Warning: Unable to append protocol name (0018,1030) to filename (it is empty).\n",
      "Philips Scaling Values RS:RI:SS = 7.96703:0:0.0519287 (see PMC3998685)\n",
      "Convert 1 DICOM as /Users/tr17/code/aide-svrtk/test_data/scanner_export_anon_enhanced/nii/20210101132712_Philips_1101_ (336x336x144x1)\n",
      "Skipping non-image DICOM: /Users/tr17/code/aide-svrtk/test_data/scanner_export_anon_enhanced/DICOM/XX_0006\n",
      "Skipping non-image DICOM: /Users/tr17/code/aide-svrtk/test_data/scanner_export_anon_enhanced/DICOM/XX_0008\n",
      "Skipping non-image DICOM: /Users/tr17/code/aide-svrtk/test_data/scanner_export_anon_enhanced/DICOM/XX_0009\n",
      "Conversion required 5.965031 seconds (5.893163 for core code).\n"
     ]
    }
   ],
   "source": [
    "subprocess.run([\"dcm2niix\", \"-z\", \"y\", \"-o\", niiDir, \"-f\", \"%t_%v_%s_%p\", dcmDir])"
   ]
  },
  {
   "cell_type": "code",
   "execution_count": 113,
   "id": "cb989714-54b7-4256-9345-61bccc266e4e",
   "metadata": {},
   "outputs": [
    {
     "name": "stdout",
     "output_type": "stream",
     "text": [
      "CompletedProcess(args=['dcm2niix', '-z', 'y', '-o', '/Users/tr17/code/aide-svrtk/test_data/scanner_export_anon_enhanced/nii', '-f', '%t_%v_%s_%p', '/Users/tr17/code/aide-svrtk/test_data/scanner_export_anon_enhanced/DICOM'], returncode=0)\n"
     ]
    }
   ],
   "source": []
  },
  {
   "cell_type": "code",
   "execution_count": 89,
   "id": "2dea89fb-7467-4ef1-8349-452fa81fe900",
   "metadata": {},
   "outputs": [],
   "source": [
    "# contextObj = OperatorContext()\n",
    "dcmImage = DicomImage(dcmImageFile)\n",
    "# dcmSeries = DicomSeries(dcmImageFile)\n",
    "# dcmOrig = DicomOrigin()"
   ]
  },
  {
   "cell_type": "code",
   "execution_count": 90,
   "id": "4eca8d1e-1276-4233-95bc-6796d2966c47",
   "metadata": {},
   "outputs": [
    {
     "name": "stdout",
     "output_type": "stream",
     "text": [
      "/Users/tr17/code/aide-svrtk/test_data/scanner_export_anon_enhanced/DICOM/IM_0001\n"
     ]
    }
   ],
   "source": [
    "print(dcmImage.image_path)"
   ]
  },
  {
   "cell_type": "code",
   "execution_count": 91,
   "id": "288dfb75-661b-4ed7-b30a-ac57ad7c6a0b",
   "metadata": {},
   "outputs": [
    {
     "name": "stderr",
     "output_type": "stream",
     "text": [
      "{\"written_at\": \"2022-03-01T11:51:30.503Z\", \"written_ts\": 1646135490503958000, \"msg\": \"Model has loaded DICOM image dataset from storage\", \"type\": \"log\", \"logger\": \"aide-audit-logger\", \"thread\": \"MainThread\", \"level\": \"INFO\", \"module\": \"dicom_image\", \"line_no\": 28, \"file\": \"/Users/tr17/code/aide-svrtk/test_data/scanner_export_anon_enhanced/DICOM/IM_0001\", \"model_name\": \"dcm2nii-operator\", \"model_version\": \"1.0.0\", \"execution_id\": \"242c07cf-9c3f-429b-91b0-1b7d72116617\"}\n"
     ]
    }
   ],
   "source": [
    "dcmData = dcmImage.load_dataset()"
   ]
  },
  {
   "cell_type": "code",
   "execution_count": 65,
   "id": "b7fb5350-6a69-406c-9e3c-06d16c2c905e",
   "metadata": {},
   "outputs": [
    {
     "name": "stdout",
     "output_type": "stream",
     "text": [
      "(160, 336, 336)\n"
     ]
    }
   ],
   "source": [
    "print(dcmData.pixel_array.shape)"
   ]
  },
  {
   "cell_type": "code",
   "execution_count": 86,
   "id": "06b8436d-9b3a-423c-8bbd-15c034528eba",
   "metadata": {},
   "outputs": [
    {
     "name": "stdout",
     "output_type": "stream",
     "text": [
      "<class 'aide_sdk.model.dicom_image.DicomImage'>\n",
      "<class 'pydicom.dataset.FileDataset'>\n"
     ]
    },
    {
     "ename": "TypeError",
     "evalue": "save_dicom() missing 1 required positional argument: 'dataset'",
     "output_type": "error",
     "traceback": [
      "\u001b[0;31m---------------------------------------------------------------------------\u001b[0m",
      "\u001b[0;31mTypeError\u001b[0m                                 Traceback (most recent call last)",
      "\u001b[0;32m/var/folders/mh/9536c7wd6kx461qr552f2fyw0000gp/T/ipykernel_71585/548022773.py\u001b[0m in \u001b[0;36m<module>\u001b[0;34m\u001b[0m\n\u001b[1;32m      3\u001b[0m \u001b[0mfs\u001b[0m \u001b[0;34m=\u001b[0m \u001b[0mFileStorage\u001b[0m\u001b[0;34m\u001b[0m\u001b[0;34m\u001b[0m\u001b[0m\n\u001b[1;32m      4\u001b[0m \u001b[0;31m# fs.save_dicom(saveDir, 'testDicom.dcm')\u001b[0m\u001b[0;34m\u001b[0m\u001b[0;34m\u001b[0m\u001b[0m\n\u001b[0;32m----> 5\u001b[0;31m \u001b[0mfs\u001b[0m\u001b[0;34m.\u001b[0m\u001b[0msave_dicom\u001b[0m\u001b[0;34m(\u001b[0m\u001b[0;34m'saveDir'\u001b[0m\u001b[0;34m,\u001b[0m \u001b[0mdcmData\u001b[0m\u001b[0;34m)\u001b[0m\u001b[0;34m\u001b[0m\u001b[0;34m\u001b[0m\u001b[0m\n\u001b[0m",
      "\u001b[0;31mTypeError\u001b[0m: save_dicom() missing 1 required positional argument: 'dataset'"
     ]
    }
   ],
   "source": [
    "print(type(dcmImage))\n",
    "print(type(dcmData))\n",
    "fs = FileStorage\n",
    "# fs.save_dicom(saveDir, 'testDicom.dcm')\n",
    "x = fs.save_dicom('saveDir', dcmData)"
   ]
  }
 ],
 "metadata": {
  "kernelspec": {
   "display_name": "jupyter-condaenv",
   "language": "python",
   "name": "jupyter-condaenv"
  },
  "language_info": {
   "codemirror_mode": {
    "name": "ipython",
    "version": 3
   },
   "file_extension": ".py",
   "mimetype": "text/x-python",
   "name": "python",
   "nbconvert_exporter": "python",
   "pygments_lexer": "ipython3",
   "version": "3.9.7"
  }
 },
 "nbformat": 4,
 "nbformat_minor": 5
}
